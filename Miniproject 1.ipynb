{
 "cells": [
  {
   "cell_type": "code",
   "execution_count": 83,
   "id": "42faaf43",
   "metadata": {},
   "outputs": [],
   "source": [
    "#let us assume that a dataset consist of 5 columns namely rollno,name,department,mark,location.write the code for following function.\n",
    "#i.display first rows and last columns\n",
    "#ii.display the information of rollno column\n",
    "#iii.change the column name roll no as register number\n",
    "#iv.delete the column location\n",
    "#v.display the mark greater than 80 and less than 95\n",
    "#v.display the marks in ascending order\n",
    "#vi.insert new column as GPA\n",
    "#vii.Find the sum of NULL values\n",
    "#viii.Find the sum of Marks\n",
    "#viiii.create subset for first three columns\n",
    "#x.visualise the student mark using line chart\n",
    "#xi.display the name and mark information using barchart\n",
    "#xii.Apply stack bar chart for any one column \n",
    "#xiii.locate the legend in left location\n",
    "#xiv.Draw the scatterplot for any two columns\n",
    "#xv.Display the x-axis and Y axis label\n",
    "#XVI.Display the area chart for any two columns\n",
    "#xvii.Find the maximum mark from the dataset\n",
    "#xviii.Find the minimum mark from the dataset\n",
    "#xviii.Find the mean value for the  mark column\n"
   ]
  },
  {
   "cell_type": "code",
   "execution_count": 84,
   "id": "a3eaf696",
   "metadata": {},
   "outputs": [],
   "source": [
    "import pandas as pd\n",
    "import numpy as np\n",
    "import matplotlib.pyplot as plt\n",
    "import seaborn as sns"
   ]
  },
  {
   "cell_type": "code",
   "execution_count": null,
   "id": "adaddedf",
   "metadata": {},
   "outputs": [],
   "source": []
  },
  {
   "cell_type": "code",
   "execution_count": 85,
   "id": "0fd62b84",
   "metadata": {},
   "outputs": [],
   "source": [
    "ds=pd.DataFrame({\"rollno\":[2008,2010,2011,2012,2013,2014],\"name\":['na','nav','nax','naveen','namm','jupyter'],\"department\":['cse','ece','ai','csbs','eee','eiii'],\"mark\":[87,89,90,94,35,87],\"location\":['chena','andhra','avadi','nellore','mmmmm','aaaaa']})"
   ]
  },
  {
   "cell_type": "code",
   "execution_count": 86,
   "id": "36db8837",
   "metadata": {},
   "outputs": [
    {
     "data": {
      "text/html": [
       "<div>\n",
       "<style scoped>\n",
       "    .dataframe tbody tr th:only-of-type {\n",
       "        vertical-align: middle;\n",
       "    }\n",
       "\n",
       "    .dataframe tbody tr th {\n",
       "        vertical-align: top;\n",
       "    }\n",
       "\n",
       "    .dataframe thead th {\n",
       "        text-align: right;\n",
       "    }\n",
       "</style>\n",
       "<table border=\"1\" class=\"dataframe\">\n",
       "  <thead>\n",
       "    <tr style=\"text-align: right;\">\n",
       "      <th></th>\n",
       "      <th>rollno</th>\n",
       "      <th>name</th>\n",
       "      <th>department</th>\n",
       "      <th>mark</th>\n",
       "      <th>location</th>\n",
       "    </tr>\n",
       "  </thead>\n",
       "  <tbody>\n",
       "    <tr>\n",
       "      <th>0</th>\n",
       "      <td>2008</td>\n",
       "      <td>na</td>\n",
       "      <td>cse</td>\n",
       "      <td>87</td>\n",
       "      <td>chena</td>\n",
       "    </tr>\n",
       "    <tr>\n",
       "      <th>1</th>\n",
       "      <td>2010</td>\n",
       "      <td>nav</td>\n",
       "      <td>ece</td>\n",
       "      <td>89</td>\n",
       "      <td>andhra</td>\n",
       "    </tr>\n",
       "    <tr>\n",
       "      <th>2</th>\n",
       "      <td>2011</td>\n",
       "      <td>nax</td>\n",
       "      <td>ai</td>\n",
       "      <td>90</td>\n",
       "      <td>avadi</td>\n",
       "    </tr>\n",
       "    <tr>\n",
       "      <th>3</th>\n",
       "      <td>2012</td>\n",
       "      <td>naveen</td>\n",
       "      <td>csbs</td>\n",
       "      <td>94</td>\n",
       "      <td>nellore</td>\n",
       "    </tr>\n",
       "    <tr>\n",
       "      <th>4</th>\n",
       "      <td>2013</td>\n",
       "      <td>namm</td>\n",
       "      <td>eee</td>\n",
       "      <td>35</td>\n",
       "      <td>mmmmm</td>\n",
       "    </tr>\n",
       "    <tr>\n",
       "      <th>5</th>\n",
       "      <td>2014</td>\n",
       "      <td>jupyter</td>\n",
       "      <td>eiii</td>\n",
       "      <td>87</td>\n",
       "      <td>aaaaa</td>\n",
       "    </tr>\n",
       "  </tbody>\n",
       "</table>\n",
       "</div>"
      ],
      "text/plain": [
       "   rollno     name department  mark location\n",
       "0    2008       na        cse    87    chena\n",
       "1    2010      nav        ece    89   andhra\n",
       "2    2011      nax         ai    90    avadi\n",
       "3    2012   naveen       csbs    94  nellore\n",
       "4    2013     namm        eee    35    mmmmm\n",
       "5    2014  jupyter       eiii    87    aaaaa"
      ]
     },
     "execution_count": 86,
     "metadata": {},
     "output_type": "execute_result"
    }
   ],
   "source": [
    "ds"
   ]
  },
  {
   "cell_type": "code",
   "execution_count": 87,
   "id": "4a787d3a",
   "metadata": {},
   "outputs": [
    {
     "data": {
      "text/html": [
       "<div>\n",
       "<style scoped>\n",
       "    .dataframe tbody tr th:only-of-type {\n",
       "        vertical-align: middle;\n",
       "    }\n",
       "\n",
       "    .dataframe tbody tr th {\n",
       "        vertical-align: top;\n",
       "    }\n",
       "\n",
       "    .dataframe thead th {\n",
       "        text-align: right;\n",
       "    }\n",
       "</style>\n",
       "<table border=\"1\" class=\"dataframe\">\n",
       "  <thead>\n",
       "    <tr style=\"text-align: right;\">\n",
       "      <th></th>\n",
       "      <th>rollno</th>\n",
       "      <th>name</th>\n",
       "      <th>department</th>\n",
       "      <th>mark</th>\n",
       "      <th>location</th>\n",
       "    </tr>\n",
       "  </thead>\n",
       "  <tbody>\n",
       "    <tr>\n",
       "      <th>0</th>\n",
       "      <td>2008</td>\n",
       "      <td>na</td>\n",
       "      <td>cse</td>\n",
       "      <td>87</td>\n",
       "      <td>chena</td>\n",
       "    </tr>\n",
       "    <tr>\n",
       "      <th>1</th>\n",
       "      <td>2010</td>\n",
       "      <td>nav</td>\n",
       "      <td>ece</td>\n",
       "      <td>89</td>\n",
       "      <td>andhra</td>\n",
       "    </tr>\n",
       "    <tr>\n",
       "      <th>2</th>\n",
       "      <td>2011</td>\n",
       "      <td>nax</td>\n",
       "      <td>ai</td>\n",
       "      <td>90</td>\n",
       "      <td>avadi</td>\n",
       "    </tr>\n",
       "    <tr>\n",
       "      <th>3</th>\n",
       "      <td>2012</td>\n",
       "      <td>naveen</td>\n",
       "      <td>csbs</td>\n",
       "      <td>94</td>\n",
       "      <td>nellore</td>\n",
       "    </tr>\n",
       "    <tr>\n",
       "      <th>4</th>\n",
       "      <td>2013</td>\n",
       "      <td>namm</td>\n",
       "      <td>eee</td>\n",
       "      <td>35</td>\n",
       "      <td>mmmmm</td>\n",
       "    </tr>\n",
       "  </tbody>\n",
       "</table>\n",
       "</div>"
      ],
      "text/plain": [
       "   rollno    name department  mark location\n",
       "0    2008      na        cse    87    chena\n",
       "1    2010     nav        ece    89   andhra\n",
       "2    2011     nax         ai    90    avadi\n",
       "3    2012  naveen       csbs    94  nellore\n",
       "4    2013    namm        eee    35    mmmmm"
      ]
     },
     "execution_count": 87,
     "metadata": {},
     "output_type": "execute_result"
    }
   ],
   "source": [
    "ds.head()"
   ]
  },
  {
   "cell_type": "code",
   "execution_count": 88,
   "id": "b9666222",
   "metadata": {},
   "outputs": [
    {
     "data": {
      "text/html": [
       "<div>\n",
       "<style scoped>\n",
       "    .dataframe tbody tr th:only-of-type {\n",
       "        vertical-align: middle;\n",
       "    }\n",
       "\n",
       "    .dataframe tbody tr th {\n",
       "        vertical-align: top;\n",
       "    }\n",
       "\n",
       "    .dataframe thead th {\n",
       "        text-align: right;\n",
       "    }\n",
       "</style>\n",
       "<table border=\"1\" class=\"dataframe\">\n",
       "  <thead>\n",
       "    <tr style=\"text-align: right;\">\n",
       "      <th></th>\n",
       "      <th>rollno</th>\n",
       "      <th>name</th>\n",
       "      <th>department</th>\n",
       "      <th>mark</th>\n",
       "      <th>location</th>\n",
       "    </tr>\n",
       "  </thead>\n",
       "  <tbody>\n",
       "    <tr>\n",
       "      <th>0</th>\n",
       "      <td>2008</td>\n",
       "      <td>na</td>\n",
       "      <td>cse</td>\n",
       "      <td>87</td>\n",
       "      <td>chena</td>\n",
       "    </tr>\n",
       "    <tr>\n",
       "      <th>1</th>\n",
       "      <td>2010</td>\n",
       "      <td>nav</td>\n",
       "      <td>ece</td>\n",
       "      <td>89</td>\n",
       "      <td>andhra</td>\n",
       "    </tr>\n",
       "    <tr>\n",
       "      <th>2</th>\n",
       "      <td>2011</td>\n",
       "      <td>nax</td>\n",
       "      <td>ai</td>\n",
       "      <td>90</td>\n",
       "      <td>avadi</td>\n",
       "    </tr>\n",
       "    <tr>\n",
       "      <th>3</th>\n",
       "      <td>2012</td>\n",
       "      <td>naveen</td>\n",
       "      <td>csbs</td>\n",
       "      <td>94</td>\n",
       "      <td>nellore</td>\n",
       "    </tr>\n",
       "    <tr>\n",
       "      <th>4</th>\n",
       "      <td>2013</td>\n",
       "      <td>namm</td>\n",
       "      <td>eee</td>\n",
       "      <td>35</td>\n",
       "      <td>mmmmm</td>\n",
       "    </tr>\n",
       "    <tr>\n",
       "      <th>5</th>\n",
       "      <td>2014</td>\n",
       "      <td>jupyter</td>\n",
       "      <td>eiii</td>\n",
       "      <td>87</td>\n",
       "      <td>aaaaa</td>\n",
       "    </tr>\n",
       "  </tbody>\n",
       "</table>\n",
       "</div>"
      ],
      "text/plain": [
       "   rollno     name department  mark location\n",
       "0    2008       na        cse    87    chena\n",
       "1    2010      nav        ece    89   andhra\n",
       "2    2011      nax         ai    90    avadi\n",
       "3    2012   naveen       csbs    94  nellore\n",
       "4    2013     namm        eee    35    mmmmm\n",
       "5    2014  jupyter       eiii    87    aaaaa"
      ]
     },
     "execution_count": 88,
     "metadata": {},
     "output_type": "execute_result"
    }
   ],
   "source": [
    "ds\n"
   ]
  },
  {
   "cell_type": "code",
   "execution_count": 89,
   "id": "203b3467",
   "metadata": {},
   "outputs": [
    {
     "data": {
      "text/html": [
       "<div>\n",
       "<style scoped>\n",
       "    .dataframe tbody tr th:only-of-type {\n",
       "        vertical-align: middle;\n",
       "    }\n",
       "\n",
       "    .dataframe tbody tr th {\n",
       "        vertical-align: top;\n",
       "    }\n",
       "\n",
       "    .dataframe thead th {\n",
       "        text-align: right;\n",
       "    }\n",
       "</style>\n",
       "<table border=\"1\" class=\"dataframe\">\n",
       "  <thead>\n",
       "    <tr style=\"text-align: right;\">\n",
       "      <th></th>\n",
       "      <th>rollno</th>\n",
       "      <th>name</th>\n",
       "      <th>department</th>\n",
       "      <th>mark</th>\n",
       "      <th>location</th>\n",
       "    </tr>\n",
       "  </thead>\n",
       "  <tbody>\n",
       "    <tr>\n",
       "      <th>0</th>\n",
       "      <td>2008</td>\n",
       "      <td>na</td>\n",
       "      <td>cse</td>\n",
       "      <td>87</td>\n",
       "      <td>chena</td>\n",
       "    </tr>\n",
       "    <tr>\n",
       "      <th>1</th>\n",
       "      <td>2010</td>\n",
       "      <td>nav</td>\n",
       "      <td>ece</td>\n",
       "      <td>89</td>\n",
       "      <td>andhra</td>\n",
       "    </tr>\n",
       "  </tbody>\n",
       "</table>\n",
       "</div>"
      ],
      "text/plain": [
       "   rollno name department  mark location\n",
       "0    2008   na        cse    87    chena\n",
       "1    2010  nav        ece    89   andhra"
      ]
     },
     "execution_count": 89,
     "metadata": {},
     "output_type": "execute_result"
    }
   ],
   "source": [
    "ds.iloc[0:2]"
   ]
  },
  {
   "cell_type": "code",
   "execution_count": 90,
   "id": "e9fd5088",
   "metadata": {},
   "outputs": [
    {
     "data": {
      "text/plain": [
       "Index(['rollno', 'name', 'department', 'mark', 'location'], dtype='object')"
      ]
     },
     "execution_count": 90,
     "metadata": {},
     "output_type": "execute_result"
    }
   ],
   "source": [
    "ds.columns"
   ]
  },
  {
   "cell_type": "code",
   "execution_count": 91,
   "id": "75304eb5",
   "metadata": {},
   "outputs": [
    {
     "data": {
      "text/html": [
       "<div>\n",
       "<style scoped>\n",
       "    .dataframe tbody tr th:only-of-type {\n",
       "        vertical-align: middle;\n",
       "    }\n",
       "\n",
       "    .dataframe tbody tr th {\n",
       "        vertical-align: top;\n",
       "    }\n",
       "\n",
       "    .dataframe thead th {\n",
       "        text-align: right;\n",
       "    }\n",
       "</style>\n",
       "<table border=\"1\" class=\"dataframe\">\n",
       "  <thead>\n",
       "    <tr style=\"text-align: right;\">\n",
       "      <th></th>\n",
       "      <th>regno</th>\n",
       "      <th>name</th>\n",
       "      <th>department</th>\n",
       "      <th>mark</th>\n",
       "      <th>location</th>\n",
       "    </tr>\n",
       "  </thead>\n",
       "  <tbody>\n",
       "    <tr>\n",
       "      <th>0</th>\n",
       "      <td>2008</td>\n",
       "      <td>na</td>\n",
       "      <td>cse</td>\n",
       "      <td>87</td>\n",
       "      <td>chena</td>\n",
       "    </tr>\n",
       "    <tr>\n",
       "      <th>1</th>\n",
       "      <td>2010</td>\n",
       "      <td>nav</td>\n",
       "      <td>ece</td>\n",
       "      <td>89</td>\n",
       "      <td>andhra</td>\n",
       "    </tr>\n",
       "    <tr>\n",
       "      <th>2</th>\n",
       "      <td>2011</td>\n",
       "      <td>nax</td>\n",
       "      <td>ai</td>\n",
       "      <td>90</td>\n",
       "      <td>avadi</td>\n",
       "    </tr>\n",
       "    <tr>\n",
       "      <th>3</th>\n",
       "      <td>2012</td>\n",
       "      <td>naveen</td>\n",
       "      <td>csbs</td>\n",
       "      <td>94</td>\n",
       "      <td>nellore</td>\n",
       "    </tr>\n",
       "    <tr>\n",
       "      <th>4</th>\n",
       "      <td>2013</td>\n",
       "      <td>namm</td>\n",
       "      <td>eee</td>\n",
       "      <td>35</td>\n",
       "      <td>mmmmm</td>\n",
       "    </tr>\n",
       "    <tr>\n",
       "      <th>5</th>\n",
       "      <td>2014</td>\n",
       "      <td>jupyter</td>\n",
       "      <td>eiii</td>\n",
       "      <td>87</td>\n",
       "      <td>aaaaa</td>\n",
       "    </tr>\n",
       "  </tbody>\n",
       "</table>\n",
       "</div>"
      ],
      "text/plain": [
       "   regno     name department  mark location\n",
       "0   2008       na        cse    87    chena\n",
       "1   2010      nav        ece    89   andhra\n",
       "2   2011      nax         ai    90    avadi\n",
       "3   2012   naveen       csbs    94  nellore\n",
       "4   2013     namm        eee    35    mmmmm\n",
       "5   2014  jupyter       eiii    87    aaaaa"
      ]
     },
     "execution_count": 91,
     "metadata": {},
     "output_type": "execute_result"
    }
   ],
   "source": [
    "ds.rename(columns={'rollno': 'regno'})"
   ]
  },
  {
   "cell_type": "code",
   "execution_count": 92,
   "id": "413f722b",
   "metadata": {},
   "outputs": [
    {
     "data": {
      "text/html": [
       "<div>\n",
       "<style scoped>\n",
       "    .dataframe tbody tr th:only-of-type {\n",
       "        vertical-align: middle;\n",
       "    }\n",
       "\n",
       "    .dataframe tbody tr th {\n",
       "        vertical-align: top;\n",
       "    }\n",
       "\n",
       "    .dataframe thead th {\n",
       "        text-align: right;\n",
       "    }\n",
       "</style>\n",
       "<table border=\"1\" class=\"dataframe\">\n",
       "  <thead>\n",
       "    <tr style=\"text-align: right;\">\n",
       "      <th></th>\n",
       "      <th>rollno</th>\n",
       "      <th>department</th>\n",
       "      <th>mark</th>\n",
       "      <th>location</th>\n",
       "    </tr>\n",
       "  </thead>\n",
       "  <tbody>\n",
       "    <tr>\n",
       "      <th>0</th>\n",
       "      <td>2008</td>\n",
       "      <td>cse</td>\n",
       "      <td>87</td>\n",
       "      <td>chena</td>\n",
       "    </tr>\n",
       "    <tr>\n",
       "      <th>1</th>\n",
       "      <td>2010</td>\n",
       "      <td>ece</td>\n",
       "      <td>89</td>\n",
       "      <td>andhra</td>\n",
       "    </tr>\n",
       "    <tr>\n",
       "      <th>2</th>\n",
       "      <td>2011</td>\n",
       "      <td>ai</td>\n",
       "      <td>90</td>\n",
       "      <td>avadi</td>\n",
       "    </tr>\n",
       "    <tr>\n",
       "      <th>3</th>\n",
       "      <td>2012</td>\n",
       "      <td>csbs</td>\n",
       "      <td>94</td>\n",
       "      <td>nellore</td>\n",
       "    </tr>\n",
       "    <tr>\n",
       "      <th>4</th>\n",
       "      <td>2013</td>\n",
       "      <td>eee</td>\n",
       "      <td>35</td>\n",
       "      <td>mmmmm</td>\n",
       "    </tr>\n",
       "    <tr>\n",
       "      <th>5</th>\n",
       "      <td>2014</td>\n",
       "      <td>eiii</td>\n",
       "      <td>87</td>\n",
       "      <td>aaaaa</td>\n",
       "    </tr>\n",
       "  </tbody>\n",
       "</table>\n",
       "</div>"
      ],
      "text/plain": [
       "   rollno department  mark location\n",
       "0    2008        cse    87    chena\n",
       "1    2010        ece    89   andhra\n",
       "2    2011         ai    90    avadi\n",
       "3    2012       csbs    94  nellore\n",
       "4    2013        eee    35    mmmmm\n",
       "5    2014       eiii    87    aaaaa"
      ]
     },
     "execution_count": 92,
     "metadata": {},
     "output_type": "execute_result"
    }
   ],
   "source": [
    "ds.drop('name',axis=1)"
   ]
  },
  {
   "cell_type": "code",
   "execution_count": 93,
   "id": "4309dc01",
   "metadata": {},
   "outputs": [
    {
     "data": {
      "text/html": [
       "<div>\n",
       "<style scoped>\n",
       "    .dataframe tbody tr th:only-of-type {\n",
       "        vertical-align: middle;\n",
       "    }\n",
       "\n",
       "    .dataframe tbody tr th {\n",
       "        vertical-align: top;\n",
       "    }\n",
       "\n",
       "    .dataframe thead th {\n",
       "        text-align: right;\n",
       "    }\n",
       "</style>\n",
       "<table border=\"1\" class=\"dataframe\">\n",
       "  <thead>\n",
       "    <tr style=\"text-align: right;\">\n",
       "      <th></th>\n",
       "      <th>rollno</th>\n",
       "      <th>name</th>\n",
       "      <th>department</th>\n",
       "      <th>mark</th>\n",
       "      <th>location</th>\n",
       "    </tr>\n",
       "  </thead>\n",
       "  <tbody>\n",
       "    <tr>\n",
       "      <th>0</th>\n",
       "      <td>2008</td>\n",
       "      <td>na</td>\n",
       "      <td>cse</td>\n",
       "      <td>87</td>\n",
       "      <td>chena</td>\n",
       "    </tr>\n",
       "    <tr>\n",
       "      <th>1</th>\n",
       "      <td>2010</td>\n",
       "      <td>nav</td>\n",
       "      <td>ece</td>\n",
       "      <td>89</td>\n",
       "      <td>andhra</td>\n",
       "    </tr>\n",
       "    <tr>\n",
       "      <th>2</th>\n",
       "      <td>2011</td>\n",
       "      <td>nax</td>\n",
       "      <td>ai</td>\n",
       "      <td>90</td>\n",
       "      <td>avadi</td>\n",
       "    </tr>\n",
       "    <tr>\n",
       "      <th>3</th>\n",
       "      <td>2012</td>\n",
       "      <td>naveen</td>\n",
       "      <td>csbs</td>\n",
       "      <td>94</td>\n",
       "      <td>nellore</td>\n",
       "    </tr>\n",
       "    <tr>\n",
       "      <th>4</th>\n",
       "      <td>2013</td>\n",
       "      <td>namm</td>\n",
       "      <td>eee</td>\n",
       "      <td>35</td>\n",
       "      <td>mmmmm</td>\n",
       "    </tr>\n",
       "    <tr>\n",
       "      <th>5</th>\n",
       "      <td>2014</td>\n",
       "      <td>jupyter</td>\n",
       "      <td>eiii</td>\n",
       "      <td>87</td>\n",
       "      <td>aaaaa</td>\n",
       "    </tr>\n",
       "  </tbody>\n",
       "</table>\n",
       "</div>"
      ],
      "text/plain": [
       "   rollno     name department  mark location\n",
       "0    2008       na        cse    87    chena\n",
       "1    2010      nav        ece    89   andhra\n",
       "2    2011      nax         ai    90    avadi\n",
       "3    2012   naveen       csbs    94  nellore\n",
       "4    2013     namm        eee    35    mmmmm\n",
       "5    2014  jupyter       eiii    87    aaaaa"
      ]
     },
     "execution_count": 93,
     "metadata": {},
     "output_type": "execute_result"
    }
   ],
   "source": [
    "ds"
   ]
  },
  {
   "cell_type": "code",
   "execution_count": 94,
   "id": "7815546d",
   "metadata": {},
   "outputs": [
    {
     "data": {
      "text/html": [
       "<div>\n",
       "<style scoped>\n",
       "    .dataframe tbody tr th:only-of-type {\n",
       "        vertical-align: middle;\n",
       "    }\n",
       "\n",
       "    .dataframe tbody tr th {\n",
       "        vertical-align: top;\n",
       "    }\n",
       "\n",
       "    .dataframe thead th {\n",
       "        text-align: right;\n",
       "    }\n",
       "</style>\n",
       "<table border=\"1\" class=\"dataframe\">\n",
       "  <thead>\n",
       "    <tr style=\"text-align: right;\">\n",
       "      <th></th>\n",
       "      <th>rollno</th>\n",
       "      <th>name</th>\n",
       "      <th>department</th>\n",
       "      <th>mark</th>\n",
       "      <th>location</th>\n",
       "    </tr>\n",
       "  </thead>\n",
       "  <tbody>\n",
       "    <tr>\n",
       "      <th>0</th>\n",
       "      <td>2008</td>\n",
       "      <td>na</td>\n",
       "      <td>cse</td>\n",
       "      <td>87</td>\n",
       "      <td>chena</td>\n",
       "    </tr>\n",
       "    <tr>\n",
       "      <th>1</th>\n",
       "      <td>2010</td>\n",
       "      <td>nav</td>\n",
       "      <td>ece</td>\n",
       "      <td>89</td>\n",
       "      <td>andhra</td>\n",
       "    </tr>\n",
       "    <tr>\n",
       "      <th>5</th>\n",
       "      <td>2014</td>\n",
       "      <td>jupyter</td>\n",
       "      <td>eiii</td>\n",
       "      <td>87</td>\n",
       "      <td>aaaaa</td>\n",
       "    </tr>\n",
       "  </tbody>\n",
       "</table>\n",
       "</div>"
      ],
      "text/plain": [
       "   rollno     name department  mark location\n",
       "0    2008       na        cse    87    chena\n",
       "1    2010      nav        ece    89   andhra\n",
       "5    2014  jupyter       eiii    87    aaaaa"
      ]
     },
     "execution_count": 94,
     "metadata": {},
     "output_type": "execute_result"
    }
   ],
   "source": [
    "ds[((ds['mark']>=80)&(ds['mark']<90))]"
   ]
  },
  {
   "cell_type": "code",
   "execution_count": 95,
   "id": "42ef6539",
   "metadata": {},
   "outputs": [],
   "source": [
    "dff=ds.sort_values('mark',inplace=True)"
   ]
  },
  {
   "cell_type": "code",
   "execution_count": 96,
   "id": "9e0552dd",
   "metadata": {},
   "outputs": [],
   "source": [
    "dff"
   ]
  },
  {
   "cell_type": "code",
   "execution_count": 97,
   "id": "7cc0f190",
   "metadata": {},
   "outputs": [],
   "source": [
    "pp=ds['mark'].sum()"
   ]
  },
  {
   "cell_type": "code",
   "execution_count": 98,
   "id": "fc39975a",
   "metadata": {},
   "outputs": [
    {
     "data": {
      "text/plain": [
       "482"
      ]
     },
     "execution_count": 98,
     "metadata": {},
     "output_type": "execute_result"
    }
   ],
   "source": [
    "pp"
   ]
  },
  {
   "cell_type": "code",
   "execution_count": 99,
   "id": "368d6521",
   "metadata": {},
   "outputs": [],
   "source": [
    "nav=ds['mark'].max()"
   ]
  },
  {
   "cell_type": "code",
   "execution_count": 100,
   "id": "9f260e3d",
   "metadata": {},
   "outputs": [
    {
     "data": {
      "text/plain": [
       "94"
      ]
     },
     "execution_count": 100,
     "metadata": {},
     "output_type": "execute_result"
    }
   ],
   "source": [
    "nav"
   ]
  },
  {
   "cell_type": "code",
   "execution_count": 101,
   "id": "4fa1bf5e",
   "metadata": {},
   "outputs": [],
   "source": [
    "nax=ds['mark'].min()"
   ]
  },
  {
   "cell_type": "code",
   "execution_count": 102,
   "id": "ca196cee",
   "metadata": {},
   "outputs": [
    {
     "data": {
      "text/plain": [
       "35"
      ]
     },
     "execution_count": 102,
     "metadata": {},
     "output_type": "execute_result"
    }
   ],
   "source": [
    "nax"
   ]
  },
  {
   "cell_type": "code",
   "execution_count": 103,
   "id": "571b4d3e",
   "metadata": {},
   "outputs": [
    {
     "name": "stderr",
     "output_type": "stream",
     "text": [
      "C:\\Users\\hp\\AppData\\Local\\Temp\\ipykernel_15316\\2941580766.py:1: FutureWarning: The default value of numeric_only in DataFrame.mean is deprecated. In a future version, it will default to False. In addition, specifying 'numeric_only=None' is deprecated. Select only valid columns or specify the value of numeric_only to silence this warning.\n",
      "  naaa=ds.mean()\n"
     ]
    }
   ],
   "source": [
    "naaa=ds.mean()"
   ]
  },
  {
   "cell_type": "code",
   "execution_count": 104,
   "id": "9194d5e1",
   "metadata": {},
   "outputs": [
    {
     "data": {
      "text/plain": [
       "rollno    2011.333333\n",
       "mark        80.333333\n",
       "dtype: float64"
      ]
     },
     "execution_count": 104,
     "metadata": {},
     "output_type": "execute_result"
    }
   ],
   "source": [
    "naaa"
   ]
  },
  {
   "cell_type": "code",
   "execution_count": 105,
   "id": "2a639369",
   "metadata": {},
   "outputs": [],
   "source": [
    "ss=ds[['department','mark']]"
   ]
  },
  {
   "cell_type": "code",
   "execution_count": 106,
   "id": "4a210ab0",
   "metadata": {},
   "outputs": [
    {
     "data": {
      "text/html": [
       "<div>\n",
       "<style scoped>\n",
       "    .dataframe tbody tr th:only-of-type {\n",
       "        vertical-align: middle;\n",
       "    }\n",
       "\n",
       "    .dataframe tbody tr th {\n",
       "        vertical-align: top;\n",
       "    }\n",
       "\n",
       "    .dataframe thead th {\n",
       "        text-align: right;\n",
       "    }\n",
       "</style>\n",
       "<table border=\"1\" class=\"dataframe\">\n",
       "  <thead>\n",
       "    <tr style=\"text-align: right;\">\n",
       "      <th></th>\n",
       "      <th>department</th>\n",
       "      <th>mark</th>\n",
       "    </tr>\n",
       "  </thead>\n",
       "  <tbody>\n",
       "    <tr>\n",
       "      <th>4</th>\n",
       "      <td>eee</td>\n",
       "      <td>35</td>\n",
       "    </tr>\n",
       "    <tr>\n",
       "      <th>0</th>\n",
       "      <td>cse</td>\n",
       "      <td>87</td>\n",
       "    </tr>\n",
       "    <tr>\n",
       "      <th>5</th>\n",
       "      <td>eiii</td>\n",
       "      <td>87</td>\n",
       "    </tr>\n",
       "    <tr>\n",
       "      <th>1</th>\n",
       "      <td>ece</td>\n",
       "      <td>89</td>\n",
       "    </tr>\n",
       "    <tr>\n",
       "      <th>2</th>\n",
       "      <td>ai</td>\n",
       "      <td>90</td>\n",
       "    </tr>\n",
       "    <tr>\n",
       "      <th>3</th>\n",
       "      <td>csbs</td>\n",
       "      <td>94</td>\n",
       "    </tr>\n",
       "  </tbody>\n",
       "</table>\n",
       "</div>"
      ],
      "text/plain": [
       "  department  mark\n",
       "4        eee    35\n",
       "0        cse    87\n",
       "5       eiii    87\n",
       "1        ece    89\n",
       "2         ai    90\n",
       "3       csbs    94"
      ]
     },
     "execution_count": 106,
     "metadata": {},
     "output_type": "execute_result"
    }
   ],
   "source": [
    "ss"
   ]
  },
  {
   "cell_type": "code",
   "execution_count": 107,
   "id": "12f2404a",
   "metadata": {},
   "outputs": [
    {
     "data": {
      "text/html": [
       "<div>\n",
       "<style scoped>\n",
       "    .dataframe tbody tr th:only-of-type {\n",
       "        vertical-align: middle;\n",
       "    }\n",
       "\n",
       "    .dataframe tbody tr th {\n",
       "        vertical-align: top;\n",
       "    }\n",
       "\n",
       "    .dataframe thead th {\n",
       "        text-align: right;\n",
       "    }\n",
       "</style>\n",
       "<table border=\"1\" class=\"dataframe\">\n",
       "  <thead>\n",
       "    <tr style=\"text-align: right;\">\n",
       "      <th></th>\n",
       "      <th>rollno</th>\n",
       "      <th>name</th>\n",
       "      <th>department</th>\n",
       "      <th>mark</th>\n",
       "      <th>location</th>\n",
       "    </tr>\n",
       "  </thead>\n",
       "  <tbody>\n",
       "    <tr>\n",
       "      <th>4</th>\n",
       "      <td>2013</td>\n",
       "      <td>namm</td>\n",
       "      <td>eee</td>\n",
       "      <td>35</td>\n",
       "      <td>mmmmm</td>\n",
       "    </tr>\n",
       "    <tr>\n",
       "      <th>0</th>\n",
       "      <td>2008</td>\n",
       "      <td>na</td>\n",
       "      <td>cse</td>\n",
       "      <td>87</td>\n",
       "      <td>chena</td>\n",
       "    </tr>\n",
       "    <tr>\n",
       "      <th>5</th>\n",
       "      <td>2014</td>\n",
       "      <td>jupyter</td>\n",
       "      <td>eiii</td>\n",
       "      <td>87</td>\n",
       "      <td>aaaaa</td>\n",
       "    </tr>\n",
       "    <tr>\n",
       "      <th>1</th>\n",
       "      <td>2010</td>\n",
       "      <td>nav</td>\n",
       "      <td>ece</td>\n",
       "      <td>89</td>\n",
       "      <td>andhra</td>\n",
       "    </tr>\n",
       "    <tr>\n",
       "      <th>2</th>\n",
       "      <td>2011</td>\n",
       "      <td>nax</td>\n",
       "      <td>ai</td>\n",
       "      <td>90</td>\n",
       "      <td>avadi</td>\n",
       "    </tr>\n",
       "    <tr>\n",
       "      <th>3</th>\n",
       "      <td>2012</td>\n",
       "      <td>naveen</td>\n",
       "      <td>csbs</td>\n",
       "      <td>94</td>\n",
       "      <td>nellore</td>\n",
       "    </tr>\n",
       "  </tbody>\n",
       "</table>\n",
       "</div>"
      ],
      "text/plain": [
       "   rollno     name department  mark location\n",
       "4    2013     namm        eee    35    mmmmm\n",
       "0    2008       na        cse    87    chena\n",
       "5    2014  jupyter       eiii    87    aaaaa\n",
       "1    2010      nav        ece    89   andhra\n",
       "2    2011      nax         ai    90    avadi\n",
       "3    2012   naveen       csbs    94  nellore"
      ]
     },
     "execution_count": 107,
     "metadata": {},
     "output_type": "execute_result"
    }
   ],
   "source": [
    "ds"
   ]
  },
  {
   "cell_type": "code",
   "execution_count": 108,
   "id": "d3965437",
   "metadata": {},
   "outputs": [],
   "source": [
    "ds.insert(5,'GPA',6)"
   ]
  },
  {
   "cell_type": "code",
   "execution_count": 109,
   "id": "e18e5754",
   "metadata": {},
   "outputs": [
    {
     "data": {
      "text/html": [
       "<div>\n",
       "<style scoped>\n",
       "    .dataframe tbody tr th:only-of-type {\n",
       "        vertical-align: middle;\n",
       "    }\n",
       "\n",
       "    .dataframe tbody tr th {\n",
       "        vertical-align: top;\n",
       "    }\n",
       "\n",
       "    .dataframe thead th {\n",
       "        text-align: right;\n",
       "    }\n",
       "</style>\n",
       "<table border=\"1\" class=\"dataframe\">\n",
       "  <thead>\n",
       "    <tr style=\"text-align: right;\">\n",
       "      <th></th>\n",
       "      <th>rollno</th>\n",
       "      <th>name</th>\n",
       "      <th>department</th>\n",
       "      <th>mark</th>\n",
       "      <th>location</th>\n",
       "      <th>GPA</th>\n",
       "    </tr>\n",
       "  </thead>\n",
       "  <tbody>\n",
       "    <tr>\n",
       "      <th>4</th>\n",
       "      <td>2013</td>\n",
       "      <td>namm</td>\n",
       "      <td>eee</td>\n",
       "      <td>35</td>\n",
       "      <td>mmmmm</td>\n",
       "      <td>6</td>\n",
       "    </tr>\n",
       "    <tr>\n",
       "      <th>0</th>\n",
       "      <td>2008</td>\n",
       "      <td>na</td>\n",
       "      <td>cse</td>\n",
       "      <td>87</td>\n",
       "      <td>chena</td>\n",
       "      <td>6</td>\n",
       "    </tr>\n",
       "    <tr>\n",
       "      <th>5</th>\n",
       "      <td>2014</td>\n",
       "      <td>jupyter</td>\n",
       "      <td>eiii</td>\n",
       "      <td>87</td>\n",
       "      <td>aaaaa</td>\n",
       "      <td>6</td>\n",
       "    </tr>\n",
       "    <tr>\n",
       "      <th>1</th>\n",
       "      <td>2010</td>\n",
       "      <td>nav</td>\n",
       "      <td>ece</td>\n",
       "      <td>89</td>\n",
       "      <td>andhra</td>\n",
       "      <td>6</td>\n",
       "    </tr>\n",
       "    <tr>\n",
       "      <th>2</th>\n",
       "      <td>2011</td>\n",
       "      <td>nax</td>\n",
       "      <td>ai</td>\n",
       "      <td>90</td>\n",
       "      <td>avadi</td>\n",
       "      <td>6</td>\n",
       "    </tr>\n",
       "    <tr>\n",
       "      <th>3</th>\n",
       "      <td>2012</td>\n",
       "      <td>naveen</td>\n",
       "      <td>csbs</td>\n",
       "      <td>94</td>\n",
       "      <td>nellore</td>\n",
       "      <td>6</td>\n",
       "    </tr>\n",
       "  </tbody>\n",
       "</table>\n",
       "</div>"
      ],
      "text/plain": [
       "   rollno     name department  mark location  GPA\n",
       "4    2013     namm        eee    35    mmmmm    6\n",
       "0    2008       na        cse    87    chena    6\n",
       "5    2014  jupyter       eiii    87    aaaaa    6\n",
       "1    2010      nav        ece    89   andhra    6\n",
       "2    2011      nax         ai    90    avadi    6\n",
       "3    2012   naveen       csbs    94  nellore    6"
      ]
     },
     "execution_count": 109,
     "metadata": {},
     "output_type": "execute_result"
    }
   ],
   "source": [
    "ds"
   ]
  },
  {
   "cell_type": "code",
   "execution_count": 110,
   "id": "bab5540a",
   "metadata": {},
   "outputs": [],
   "source": [
    "subset=ds[['rollno','name','department']]"
   ]
  },
  {
   "cell_type": "code",
   "execution_count": 111,
   "id": "914035d7",
   "metadata": {},
   "outputs": [
    {
     "data": {
      "text/html": [
       "<div>\n",
       "<style scoped>\n",
       "    .dataframe tbody tr th:only-of-type {\n",
       "        vertical-align: middle;\n",
       "    }\n",
       "\n",
       "    .dataframe tbody tr th {\n",
       "        vertical-align: top;\n",
       "    }\n",
       "\n",
       "    .dataframe thead th {\n",
       "        text-align: right;\n",
       "    }\n",
       "</style>\n",
       "<table border=\"1\" class=\"dataframe\">\n",
       "  <thead>\n",
       "    <tr style=\"text-align: right;\">\n",
       "      <th></th>\n",
       "      <th>rollno</th>\n",
       "      <th>name</th>\n",
       "      <th>department</th>\n",
       "    </tr>\n",
       "  </thead>\n",
       "  <tbody>\n",
       "    <tr>\n",
       "      <th>4</th>\n",
       "      <td>2013</td>\n",
       "      <td>namm</td>\n",
       "      <td>eee</td>\n",
       "    </tr>\n",
       "    <tr>\n",
       "      <th>0</th>\n",
       "      <td>2008</td>\n",
       "      <td>na</td>\n",
       "      <td>cse</td>\n",
       "    </tr>\n",
       "    <tr>\n",
       "      <th>5</th>\n",
       "      <td>2014</td>\n",
       "      <td>jupyter</td>\n",
       "      <td>eiii</td>\n",
       "    </tr>\n",
       "    <tr>\n",
       "      <th>1</th>\n",
       "      <td>2010</td>\n",
       "      <td>nav</td>\n",
       "      <td>ece</td>\n",
       "    </tr>\n",
       "    <tr>\n",
       "      <th>2</th>\n",
       "      <td>2011</td>\n",
       "      <td>nax</td>\n",
       "      <td>ai</td>\n",
       "    </tr>\n",
       "    <tr>\n",
       "      <th>3</th>\n",
       "      <td>2012</td>\n",
       "      <td>naveen</td>\n",
       "      <td>csbs</td>\n",
       "    </tr>\n",
       "  </tbody>\n",
       "</table>\n",
       "</div>"
      ],
      "text/plain": [
       "   rollno     name department\n",
       "4    2013     namm        eee\n",
       "0    2008       na        cse\n",
       "5    2014  jupyter       eiii\n",
       "1    2010      nav        ece\n",
       "2    2011      nax         ai\n",
       "3    2012   naveen       csbs"
      ]
     },
     "execution_count": 111,
     "metadata": {},
     "output_type": "execute_result"
    }
   ],
   "source": [
    "subset"
   ]
  },
  {
   "cell_type": "code",
   "execution_count": 113,
   "id": "085b91fd",
   "metadata": {},
   "outputs": [],
   "source": [
    "null_count = ds.isnull().sum()"
   ]
  },
  {
   "cell_type": "code",
   "execution_count": 114,
   "id": "7f717665",
   "metadata": {},
   "outputs": [
    {
     "data": {
      "text/plain": [
       "rollno        0\n",
       "name          0\n",
       "department    0\n",
       "mark          0\n",
       "location      0\n",
       "GPA           0\n",
       "dtype: int64"
      ]
     },
     "execution_count": 114,
     "metadata": {},
     "output_type": "execute_result"
    }
   ],
   "source": [
    "null_count"
   ]
  },
  {
   "cell_type": "code",
   "execution_count": 135,
   "id": "44a54d34",
   "metadata": {},
   "outputs": [
    {
     "data": {
      "text/plain": [
       "<AxesSubplot: xlabel='name'>"
      ]
     },
     "execution_count": 135,
     "metadata": {},
     "output_type": "execute_result"
    },
    {
     "data": {
      "image/png": "[encoded data removed]",
      "text/plain": [
       "<Figure size 640x480 with 1 Axes>"
      ]
     },
     "metadata": {},
     "output_type": "display_data"
    }
   ],
   "source": [
    "ds.plot(x='name',y=['mark','department'],kind='bar',stacked=True)"
   ]
  },
  {
   "cell_type": "code",
   "execution_count": 136,
   "id": "bf54cbcb",
   "metadata": {},
   "outputs": [
    {
     "data": {
      "text/plain": [
       "<AxesSubplot: xlabel='name'>"
      ]
     },
     "execution_count": 136,
     "metadata": {},
     "output_type": "execute_result"
    },
    {
     "data": {
      "image/png": "[encoded data removed]",
      "text/plain": [
       "<Figure size 640x480 with 1 Axes>"
      ]
     },
     "metadata": {},
     "output_type": "display_data"
    }
   ],
   "source": [
    "ds.plot(x='name',y='mark',kind='line')"
   ]
  },
  {
   "cell_type": "code",
   "execution_count": 144,
   "id": "07ff439f",
   "metadata": {},
   "outputs": [
    {
     "data": {
      "text/plain": [
       "<AxesSubplot: xlabel='name'>"
      ]
     },
     "execution_count": 144,
     "metadata": {},
     "output_type": "execute_result"
    },
    {
     "data": {
      "image/png": "[encoded data removed]",
      "text/plain": [
       "<Figure size 640x480 with 1 Axes>"
      ]
     },
     "metadata": {},
     "output_type": "display_data"
    }
   ],
   "source": [
    "ds.plot(x='name',y=['mark','department'],kind='bar',stacked=True)"
   ]
  },
  {
   "cell_type": "code",
   "execution_count": 140,
   "id": "755e168c",
   "metadata": {
    "scrolled": true
   },
   "outputs": [
    {
     "data": {
      "text/plain": [
       "<AxesSubplot: xlabel='name', ylabel='mark'>"
      ]
     },
     "execution_count": 140,
     "metadata": {},
     "output_type": "execute_result"
    },
    {
     "data": {
      "image/png": "[encoded data removed]",
      "text/plain": [
       "<Figure size 640x480 with 1 Axes>"
      ]
     },
     "metadata": {},
     "output_type": "display_data"
    }
   ],
   "source": [
    "sns.lineplot(x='name',y='mark',data=ds)"
   ]
  },
  {
   "cell_type": "markdown",
   "id": "d7e0b342",
   "metadata": {},
   "source": []
  },
  {
   "cell_type": "code",
   "execution_count": 139,
   "id": "0022982d",
   "metadata": {},
   "outputs": [
    {
     "data": {
      "text/plain": [
       "<AxesSubplot: xlabel='name', ylabel='mark'>"
      ]
     },
     "execution_count": 139,
     "metadata": {},
     "output_type": "execute_result"
    },
    {
     "data": {
      "image/png": "[encoded data removed]",
      "text/plain": [
       "<Figure size 640x480 with 1 Axes>"
      ]
     },
     "metadata": {},
     "output_type": "display_data"
    }
   ],
   "source": [
    "sns.barplot(x='name',y='mark',data=ds)"
   ]
  },
  {
   "cell_type": "code",
   "execution_count": null,
   "id": "d5f60ff6",
   "metadata": {},
   "outputs": [],
   "source": []
  }
 ],
 "metadata": {
  "kernelspec": {
   "display_name": "Python 3 (ipykernel)",
   "language": "python",
   "name": "python3"
  },
  "language_info": {
   "codemirror_mode": {
    "name": "ipython",
    "version": 3
   },
   "file_extension": ".py",
   "mimetype": "text/x-python",
   "name": "python",
   "nbconvert_exporter": "python",
   "pygments_lexer": "ipython3",
   "version": "3.10.7"
  }
 },
 "nbformat": 4,
 "nbformat_minor": 5
}

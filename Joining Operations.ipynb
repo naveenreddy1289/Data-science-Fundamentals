{
 "cells": [
  {
   "cell_type": "code",
   "execution_count": 2,
   "id": "31f48799",
   "metadata": {},
   "outputs": [],
   "source": [
    "import pandas as pd"
   ]
  },
  {
   "cell_type": "code",
   "execution_count": 3,
   "id": "e8afa2c3",
   "metadata": {},
   "outputs": [],
   "source": [
    "ds=pd.DataFrame({'name':['nav','amar','joh','moh'],'rollno':[1,2,3,4],'sub':['eng','math','scien','soc']})"
   ]
  },
  {
   "cell_type": "code",
   "execution_count": 4,
   "id": "404d2ce1",
   "metadata": {},
   "outputs": [
    {
     "data": {
      "text/html": [
       "<div>\n",
       "<style scoped>\n",
       "    .dataframe tbody tr th:only-of-type {\n",
       "        vertical-align: middle;\n",
       "    }\n",
       "\n",
       "    .dataframe tbody tr th {\n",
       "        vertical-align: top;\n",
       "    }\n",
       "\n",
       "    .dataframe thead th {\n",
       "        text-align: right;\n",
       "    }\n",
       "</style>\n",
       "<table border=\"1\" class=\"dataframe\">\n",
       "  <thead>\n",
       "    <tr style=\"text-align: right;\">\n",
       "      <th></th>\n",
       "      <th>name</th>\n",
       "      <th>rollno</th>\n",
       "      <th>sub</th>\n",
       "    </tr>\n",
       "  </thead>\n",
       "  <tbody>\n",
       "    <tr>\n",
       "      <th>0</th>\n",
       "      <td>nav</td>\n",
       "      <td>1</td>\n",
       "      <td>eng</td>\n",
       "    </tr>\n",
       "    <tr>\n",
       "      <th>1</th>\n",
       "      <td>amar</td>\n",
       "      <td>2</td>\n",
       "      <td>math</td>\n",
       "    </tr>\n",
       "    <tr>\n",
       "      <th>2</th>\n",
       "      <td>joh</td>\n",
       "      <td>3</td>\n",
       "      <td>scien</td>\n",
       "    </tr>\n",
       "    <tr>\n",
       "      <th>3</th>\n",
       "      <td>moh</td>\n",
       "      <td>4</td>\n",
       "      <td>soc</td>\n",
       "    </tr>\n",
       "  </tbody>\n",
       "</table>\n",
       "</div>"
      ],
      "text/plain": [
       "   name  rollno    sub\n",
       "0   nav       1    eng\n",
       "1  amar       2   math\n",
       "2   joh       3  scien\n",
       "3   moh       4    soc"
      ]
     },
     "execution_count": 4,
     "metadata": {},
     "output_type": "execute_result"
    }
   ],
   "source": [
    "ds"
   ]
  },
  {
   "cell_type": "code",
   "execution_count": 5,
   "id": "314c252b",
   "metadata": {},
   "outputs": [],
   "source": [
    "df=pd.DataFrame({'name':['tiru','andh','chen','kar','jai'],'rollno':[1,2,3,4,5],'sub':['hind','eng','mat','eco','com']})"
   ]
  },
  {
   "cell_type": "code",
   "execution_count": 6,
   "id": "dc6390a0",
   "metadata": {
    "scrolled": true
   },
   "outputs": [
    {
     "data": {
      "text/html": [
       "<div>\n",
       "<style scoped>\n",
       "    .dataframe tbody tr th:only-of-type {\n",
       "        vertical-align: middle;\n",
       "    }\n",
       "\n",
       "    .dataframe tbody tr th {\n",
       "        vertical-align: top;\n",
       "    }\n",
       "\n",
       "    .dataframe thead th {\n",
       "        text-align: right;\n",
       "    }\n",
       "</style>\n",
       "<table border=\"1\" class=\"dataframe\">\n",
       "  <thead>\n",
       "    <tr style=\"text-align: right;\">\n",
       "      <th></th>\n",
       "      <th>name</th>\n",
       "      <th>rollno</th>\n",
       "      <th>sub</th>\n",
       "    </tr>\n",
       "  </thead>\n",
       "  <tbody>\n",
       "    <tr>\n",
       "      <th>0</th>\n",
       "      <td>tiru</td>\n",
       "      <td>1</td>\n",
       "      <td>hind</td>\n",
       "    </tr>\n",
       "    <tr>\n",
       "      <th>1</th>\n",
       "      <td>andh</td>\n",
       "      <td>2</td>\n",
       "      <td>eng</td>\n",
       "    </tr>\n",
       "    <tr>\n",
       "      <th>2</th>\n",
       "      <td>chen</td>\n",
       "      <td>3</td>\n",
       "      <td>mat</td>\n",
       "    </tr>\n",
       "    <tr>\n",
       "      <th>3</th>\n",
       "      <td>kar</td>\n",
       "      <td>4</td>\n",
       "      <td>eco</td>\n",
       "    </tr>\n",
       "    <tr>\n",
       "      <th>4</th>\n",
       "      <td>jai</td>\n",
       "      <td>5</td>\n",
       "      <td>com</td>\n",
       "    </tr>\n",
       "  </tbody>\n",
       "</table>\n",
       "</div>"
      ],
      "text/plain": [
       "   name  rollno   sub\n",
       "0  tiru       1  hind\n",
       "1  andh       2   eng\n",
       "2  chen       3   mat\n",
       "3   kar       4   eco\n",
       "4   jai       5   com"
      ]
     },
     "execution_count": 6,
     "metadata": {},
     "output_type": "execute_result"
    }
   ],
   "source": [
    "df"
   ]
  },
  {
   "cell_type": "code",
   "execution_count": 7,
   "id": "0819eff8",
   "metadata": {},
   "outputs": [],
   "source": [
    "ma=pd.merge(ds,df,on='rollno',how='left')"
   ]
  },
  {
   "cell_type": "code",
   "execution_count": 8,
   "id": "507d08f4",
   "metadata": {},
   "outputs": [
    {
     "data": {
      "text/html": [
       "<div>\n",
       "<style scoped>\n",
       "    .dataframe tbody tr th:only-of-type {\n",
       "        vertical-align: middle;\n",
       "    }\n",
       "\n",
       "    .dataframe tbody tr th {\n",
       "        vertical-align: top;\n",
       "    }\n",
       "\n",
       "    .dataframe thead th {\n",
       "        text-align: right;\n",
       "    }\n",
       "</style>\n",
       "<table border=\"1\" class=\"dataframe\">\n",
       "  <thead>\n",
       "    <tr style=\"text-align: right;\">\n",
       "      <th></th>\n",
       "      <th>name_x</th>\n",
       "      <th>rollno</th>\n",
       "      <th>sub_x</th>\n",
       "      <th>name_y</th>\n",
       "      <th>sub_y</th>\n",
       "    </tr>\n",
       "  </thead>\n",
       "  <tbody>\n",
       "    <tr>\n",
       "      <th>0</th>\n",
       "      <td>nav</td>\n",
       "      <td>1</td>\n",
       "      <td>eng</td>\n",
       "      <td>tiru</td>\n",
       "      <td>hind</td>\n",
       "    </tr>\n",
       "    <tr>\n",
       "      <th>1</th>\n",
       "      <td>amar</td>\n",
       "      <td>2</td>\n",
       "      <td>math</td>\n",
       "      <td>andh</td>\n",
       "      <td>eng</td>\n",
       "    </tr>\n",
       "    <tr>\n",
       "      <th>2</th>\n",
       "      <td>joh</td>\n",
       "      <td>3</td>\n",
       "      <td>scien</td>\n",
       "      <td>chen</td>\n",
       "      <td>mat</td>\n",
       "    </tr>\n",
       "    <tr>\n",
       "      <th>3</th>\n",
       "      <td>moh</td>\n",
       "      <td>4</td>\n",
       "      <td>soc</td>\n",
       "      <td>kar</td>\n",
       "      <td>eco</td>\n",
       "    </tr>\n",
       "  </tbody>\n",
       "</table>\n",
       "</div>"
      ],
      "text/plain": [
       "  name_x  rollno  sub_x name_y sub_y\n",
       "0    nav       1    eng   tiru  hind\n",
       "1   amar       2   math   andh   eng\n",
       "2    joh       3  scien   chen   mat\n",
       "3    moh       4    soc    kar   eco"
      ]
     },
     "execution_count": 8,
     "metadata": {},
     "output_type": "execute_result"
    }
   ],
   "source": [
    "ma"
   ]
  },
  {
   "cell_type": "code",
   "execution_count": 9,
   "id": "611baa2d",
   "metadata": {},
   "outputs": [],
   "source": [
    "maxx=pd.merge(ds,df,on='rollno',how='right')"
   ]
  },
  {
   "cell_type": "code",
   "execution_count": 10,
   "id": "24b1e907",
   "metadata": {},
   "outputs": [
    {
     "data": {
      "text/html": [
       "<div>\n",
       "<style scoped>\n",
       "    .dataframe tbody tr th:only-of-type {\n",
       "        vertical-align: middle;\n",
       "    }\n",
       "\n",
       "    .dataframe tbody tr th {\n",
       "        vertical-align: top;\n",
       "    }\n",
       "\n",
       "    .dataframe thead th {\n",
       "        text-align: right;\n",
       "    }\n",
       "</style>\n",
       "<table border=\"1\" class=\"dataframe\">\n",
       "  <thead>\n",
       "    <tr style=\"text-align: right;\">\n",
       "      <th></th>\n",
       "      <th>name_x</th>\n",
       "      <th>rollno</th>\n",
       "      <th>sub_x</th>\n",
       "      <th>name_y</th>\n",
       "      <th>sub_y</th>\n",
       "    </tr>\n",
       "  </thead>\n",
       "  <tbody>\n",
       "    <tr>\n",
       "      <th>0</th>\n",
       "      <td>nav</td>\n",
       "      <td>1</td>\n",
       "      <td>eng</td>\n",
       "      <td>tiru</td>\n",
       "      <td>hind</td>\n",
       "    </tr>\n",
       "    <tr>\n",
       "      <th>1</th>\n",
       "      <td>amar</td>\n",
       "      <td>2</td>\n",
       "      <td>math</td>\n",
       "      <td>andh</td>\n",
       "      <td>eng</td>\n",
       "    </tr>\n",
       "    <tr>\n",
       "      <th>2</th>\n",
       "      <td>joh</td>\n",
       "      <td>3</td>\n",
       "      <td>scien</td>\n",
       "      <td>chen</td>\n",
       "      <td>mat</td>\n",
       "    </tr>\n",
       "    <tr>\n",
       "      <th>3</th>\n",
       "      <td>moh</td>\n",
       "      <td>4</td>\n",
       "      <td>soc</td>\n",
       "      <td>kar</td>\n",
       "      <td>eco</td>\n",
       "    </tr>\n",
       "    <tr>\n",
       "      <th>4</th>\n",
       "      <td>NaN</td>\n",
       "      <td>5</td>\n",
       "      <td>NaN</td>\n",
       "      <td>jai</td>\n",
       "      <td>com</td>\n",
       "    </tr>\n",
       "  </tbody>\n",
       "</table>\n",
       "</div>"
      ],
      "text/plain": [
       "  name_x  rollno  sub_x name_y sub_y\n",
       "0    nav       1    eng   tiru  hind\n",
       "1   amar       2   math   andh   eng\n",
       "2    joh       3  scien   chen   mat\n",
       "3    moh       4    soc    kar   eco\n",
       "4    NaN       5    NaN    jai   com"
      ]
     },
     "execution_count": 10,
     "metadata": {},
     "output_type": "execute_result"
    }
   ],
   "source": [
    "maxx"
   ]
  },
  {
   "cell_type": "code",
   "execution_count": 11,
   "id": "5c278c8e",
   "metadata": {},
   "outputs": [],
   "source": [
    "nxx=pd.merge(ds,df,on='rollno')"
   ]
  },
  {
   "cell_type": "code",
   "execution_count": 12,
   "id": "317dcfb6",
   "metadata": {},
   "outputs": [
    {
     "data": {
      "text/html": [
       "<div>\n",
       "<style scoped>\n",
       "    .dataframe tbody tr th:only-of-type {\n",
       "        vertical-align: middle;\n",
       "    }\n",
       "\n",
       "    .dataframe tbody tr th {\n",
       "        vertical-align: top;\n",
       "    }\n",
       "\n",
       "    .dataframe thead th {\n",
       "        text-align: right;\n",
       "    }\n",
       "</style>\n",
       "<table border=\"1\" class=\"dataframe\">\n",
       "  <thead>\n",
       "    <tr style=\"text-align: right;\">\n",
       "      <th></th>\n",
       "      <th>name_x</th>\n",
       "      <th>rollno</th>\n",
       "      <th>sub_x</th>\n",
       "      <th>name_y</th>\n",
       "      <th>sub_y</th>\n",
       "    </tr>\n",
       "  </thead>\n",
       "  <tbody>\n",
       "    <tr>\n",
       "      <th>0</th>\n",
       "      <td>nav</td>\n",
       "      <td>1</td>\n",
       "      <td>eng</td>\n",
       "      <td>tiru</td>\n",
       "      <td>hind</td>\n",
       "    </tr>\n",
       "    <tr>\n",
       "      <th>1</th>\n",
       "      <td>amar</td>\n",
       "      <td>2</td>\n",
       "      <td>math</td>\n",
       "      <td>andh</td>\n",
       "      <td>eng</td>\n",
       "    </tr>\n",
       "    <tr>\n",
       "      <th>2</th>\n",
       "      <td>joh</td>\n",
       "      <td>3</td>\n",
       "      <td>scien</td>\n",
       "      <td>chen</td>\n",
       "      <td>mat</td>\n",
       "    </tr>\n",
       "    <tr>\n",
       "      <th>3</th>\n",
       "      <td>moh</td>\n",
       "      <td>4</td>\n",
       "      <td>soc</td>\n",
       "      <td>kar</td>\n",
       "      <td>eco</td>\n",
       "    </tr>\n",
       "  </tbody>\n",
       "</table>\n",
       "</div>"
      ],
      "text/plain": [
       "  name_x  rollno  sub_x name_y sub_y\n",
       "0    nav       1    eng   tiru  hind\n",
       "1   amar       2   math   andh   eng\n",
       "2    joh       3  scien   chen   mat\n",
       "3    moh       4    soc    kar   eco"
      ]
     },
     "execution_count": 12,
     "metadata": {},
     "output_type": "execute_result"
    }
   ],
   "source": [
    "nxx"
   ]
  },
  {
   "cell_type": "code",
   "execution_count": null,
   "id": "46567d17",
   "metadata": {},
   "outputs": [],
   "source": []
  }
 ],
 "metadata": {
  "kernelspec": {
   "display_name": "Python 3 (ipykernel)",
   "language": "python",
   "name": "python3"
  },
  "language_info": {
   "codemirror_mode": {
    "name": "ipython",
    "version": 3
   },
   "file_extension": ".py",
   "mimetype": "text/x-python",
   "name": "python",
   "nbconvert_exporter": "python",
   "pygments_lexer": "ipython3",
   "version": "3.10.7"
  }
 },
 "nbformat": 4,
 "nbformat_minor": 5
}
